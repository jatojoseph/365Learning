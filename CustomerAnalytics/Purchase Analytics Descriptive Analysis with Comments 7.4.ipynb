{
 "cells": [
  {
   "cell_type": "markdown",
   "metadata": {},
   "source": [
    "## Libraries"
   ]
  },
  {
   "cell_type": "code",
   "execution_count": 1,
   "metadata": {},
   "outputs": [],
   "source": [
    "import numpy as np\n",
    "import pandas as pd\n",
    "\n",
    "# We import the sk learn modules we'll need to segment our new data. We'll need scaler, pca and k-means.\n",
    "from sklearn.preprocessing import StandardScaler\n",
    "from sklearn.decomposition import PCA\n",
    "from sklearn.cluster import KMeans\n",
    "# We import pickle in order to be able to load our pickled objects.\n",
    "import pickle\n",
    "# We import the Logistic Regression module from sk learn for the purchase probability model.\n",
    "from sklearn.linear_model import LogisticRegression \n",
    "#We import the necessary libraries for visualization. We set seaborn do be our default.\n",
    "import matplotlib.pyplot as plt\n",
    "import matplotlib.axes as axs\n",
    "import seaborn as sns\n",
    "sns.set()\n",
    "# We import the Linear Regression module from sk learn for the quantity model.\n",
    "from sklearn.linear_model import LinearRegression"
   ]
  },
  {
   "cell_type": "markdown",
   "metadata": {},
   "source": [
    "## Data Preparation"
   ]
  },
  {
   "cell_type": "code",
   "execution_count": 2,
   "metadata": {},
   "outputs": [],
   "source": [
    "#load data\n",
    "df_purchase = pd.read_csv('purchase data.csv')\n",
    "\n",
    "# Import Scaler\n",
    "scaler = pickle.load(open('scaler.pickle', 'rb'))\n",
    "# Import PCA\n",
    "pca = pickle.load(open('pca.pickle', 'rb'))\n",
    "# Import K-Means\n",
    "kmeans_pca = pickle.load(open('kmeans_pca.pickle', 'rb'))\n",
    "# Standardization\n",
    "features = df_purchase[['Sex', 'Marital status', 'Age', 'Education', 'Income', 'Occupation', 'Settlement size']]\n",
    "df_purchase_segm_std = scaler.transform(features)\n",
    "# Apply PCA\n",
    "df_purchase_segm_pca = pca.transform(df_purchase_segm_std)\n",
    "# Segment data\n",
    "purchase_segm_kmeans_pca = kmeans_pca.predict(df_purchase_segm_pca)\n",
    "\n",
    "# Create a copy of the data frame\n",
    "df_purchase_predictors = df_purchase.copy()\n",
    "# Add segment labels\n",
    "df_purchase_predictors['Segment'] = purchase_segm_kmeans_pca\n",
    "segment_dummies = pd.get_dummies(purchase_segm_kmeans_pca, prefix = 'Segment', prefix_sep = '_')\n",
    "df_purchase_predictors = pd.concat([df_purchase_predictors, segment_dummies], axis = 1)\n",
    "\n",
    "df_pa = df_purchase_predictors"
   ]
  }
 ],
 "metadata": {
  "kernelspec": {
   "display_name": "Python 3",
   "language": "python",
   "name": "python3"
  },
  "language_info": {
   "codemirror_mode": {
    "name": "ipython",
    "version": 3
   },
   "file_extension": ".py",
   "mimetype": "text/x-python",
   "name": "python",
   "nbconvert_exporter": "python",
   "pygments_lexer": "ipython3",
   "version": "3.7.5"
  }
 },
 "nbformat": 4,
 "nbformat_minor": 2
}
